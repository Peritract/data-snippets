{
 "cells": [
  {
   "cell_type": "markdown",
   "metadata": {},
   "source": [
    "# Lambda functions and apply\n",
    "\n",
    "Lambda functions are something that data scientists use all all the time, often without regard for whether they are the most appropriate tool or not. It's important to understand how they work, not only because it will make other data scientists think you're cool, but also because without that understanding, most data science projects become an impenetrable maze of confusing code.\n",
    "\n",
    "This notebook aims to explain, in simple-ish language with examples, exactly what lambda functions are and how to use them."
   ]
  },
  {
   "cell_type": "markdown",
   "metadata": {},
   "source": [
    "### Imports\n",
    "\n",
    "Only one import is required for this notebook."
   ]
  },
  {
   "cell_type": "code",
   "execution_count": 1,
   "metadata": {},
   "outputs": [],
   "source": [
    "import pandas as pd"
   ]
  },
  {
   "cell_type": "markdown",
   "metadata": {},
   "source": [
    "### Data sourcing\n",
    "\n",
    "The following cells create a dummy dataframe consisting of entirely meaningless data. It's a lot easier to understand the principles using a minimal dataset, but the technique can be applied to larger, real-world data in exactly the same way."
   ]
  },
  {
   "cell_type": "code",
   "execution_count": 2,
   "metadata": {},
   "outputs": [],
   "source": [
    "data = pd.DataFrame(columns=[\"A\", \"B\", \"C\", \"D\", \"E\"],\n",
    "                    data=[[\"Owl\", 23, \"Green\", True, [1, 2, 3, 4]],[\"Heron\", 0, \"Green\", True, [0, 0]],\n",
    "                          [\"Kestrel\", 8, \"Red\", False, [1, 1, 1]],[\"Stork\", -7, \"Yellow\", False, [4, 5, 6, 1, 1]],\n",
    "                          [\"Puffin\", 99, \"Blue\", False, [8, 0, 8, 0]]])"
   ]
  },
  {
   "cell_type": "code",
   "execution_count": 3,
   "metadata": {},
   "outputs": [
    {
     "data": {
      "text/html": [
       "<div>\n",
       "<style scoped>\n",
       "    .dataframe tbody tr th:only-of-type {\n",
       "        vertical-align: middle;\n",
       "    }\n",
       "\n",
       "    .dataframe tbody tr th {\n",
       "        vertical-align: top;\n",
       "    }\n",
       "\n",
       "    .dataframe thead th {\n",
       "        text-align: right;\n",
       "    }\n",
       "</style>\n",
       "<table border=\"1\" class=\"dataframe\">\n",
       "  <thead>\n",
       "    <tr style=\"text-align: right;\">\n",
       "      <th></th>\n",
       "      <th>A</th>\n",
       "      <th>B</th>\n",
       "      <th>C</th>\n",
       "      <th>D</th>\n",
       "      <th>E</th>\n",
       "    </tr>\n",
       "  </thead>\n",
       "  <tbody>\n",
       "    <tr>\n",
       "      <th>0</th>\n",
       "      <td>Owl</td>\n",
       "      <td>23</td>\n",
       "      <td>Green</td>\n",
       "      <td>True</td>\n",
       "      <td>[1, 2, 3, 4]</td>\n",
       "    </tr>\n",
       "    <tr>\n",
       "      <th>1</th>\n",
       "      <td>Heron</td>\n",
       "      <td>0</td>\n",
       "      <td>Green</td>\n",
       "      <td>True</td>\n",
       "      <td>[0, 0]</td>\n",
       "    </tr>\n",
       "    <tr>\n",
       "      <th>2</th>\n",
       "      <td>Kestrel</td>\n",
       "      <td>8</td>\n",
       "      <td>Red</td>\n",
       "      <td>False</td>\n",
       "      <td>[1, 1, 1]</td>\n",
       "    </tr>\n",
       "    <tr>\n",
       "      <th>3</th>\n",
       "      <td>Stork</td>\n",
       "      <td>-7</td>\n",
       "      <td>Yellow</td>\n",
       "      <td>False</td>\n",
       "      <td>[4, 5, 6, 1, 1]</td>\n",
       "    </tr>\n",
       "    <tr>\n",
       "      <th>4</th>\n",
       "      <td>Puffin</td>\n",
       "      <td>99</td>\n",
       "      <td>Blue</td>\n",
       "      <td>False</td>\n",
       "      <td>[8, 0, 8, 0]</td>\n",
       "    </tr>\n",
       "  </tbody>\n",
       "</table>\n",
       "</div>"
      ],
      "text/plain": [
       "         A   B       C      D                E\n",
       "0      Owl  23   Green   True     [1, 2, 3, 4]\n",
       "1    Heron   0   Green   True           [0, 0]\n",
       "2  Kestrel   8     Red  False        [1, 1, 1]\n",
       "3    Stork  -7  Yellow  False  [4, 5, 6, 1, 1]\n",
       "4   Puffin  99    Blue  False     [8, 0, 8, 0]"
      ]
     },
     "execution_count": 3,
     "metadata": {},
     "output_type": "execute_result"
    }
   ],
   "source": [
    "data.head()"
   ]
  },
  {
   "cell_type": "markdown",
   "metadata": {},
   "source": [
    "### Apply\n",
    "\n",
    "In data science, lambda functions are most commonly found nesting inside `.apply()` calls, and it's easy to assume that either the .apply() is never necessary, or that it always is. Before discussing lambdas themselves, it's worth discussing exactly what `.apply()` does.\n",
    "\n",
    "`.apply()` is a Pandas method that allows you to *apply* the same function to every cell of a column, rather than just applying the function to the column itself.\n",
    "\n",
    "In the cell below, calling the `len()` function with a column as an argument returns the length of the column itself."
   ]
  },
  {
   "cell_type": "code",
   "execution_count": 4,
   "metadata": {},
   "outputs": [
    {
     "data": {
      "text/plain": [
       "5"
      ]
     },
     "execution_count": 4,
     "metadata": {},
     "output_type": "execute_result"
    }
   ],
   "source": [
    "len(data[\"A\"])"
   ]
  },
  {
   "cell_type": "markdown",
   "metadata": {},
   "source": [
    "If, however, you are more interested in discovering the length of every string in that column, you can use `.apply()` on the column and pass in `len()` as an argument. This returns the length of each separate string."
   ]
  },
  {
   "cell_type": "code",
   "execution_count": 5,
   "metadata": {},
   "outputs": [
    {
     "data": {
      "text/plain": [
       "0    3\n",
       "1    5\n",
       "2    7\n",
       "3    5\n",
       "4    6\n",
       "Name: A, dtype: int64"
      ]
     },
     "execution_count": 5,
     "metadata": {},
     "output_type": "execute_result"
    }
   ],
   "source": [
    "data[\"A\"].apply(len)"
   ]
  },
  {
   "cell_type": "markdown",
   "metadata": {},
   "source": [
    "It's absolutely possible to get the same information by using a for loop, as shown in the cell below, but the code is messier and easier to get confused by. It's both ugly and inefficient code; no one wants to read or debug it."
   ]
  },
  {
   "cell_type": "code",
   "execution_count": 6,
   "metadata": {},
   "outputs": [
    {
     "name": "stdout",
     "output_type": "stream",
     "text": [
      "3\n",
      "5\n",
      "7\n",
      "5\n",
      "6\n"
     ]
    }
   ],
   "source": [
    "for i in range(len(data[\"A\"])):\n",
    "    print(len(data.iloc[i,0]))"
   ]
  },
  {
   "cell_type": "markdown",
   "metadata": {},
   "source": [
    "`.apply()` is the neatest and easiest way to pass every value in a column through the same function. Any function can be used with `.apply(`), as long as it is capable of handling a Pandas `Series` object."
   ]
  },
  {
   "cell_type": "markdown",
   "metadata": {},
   "source": [
    "### Functions & Lambda functions"
   ]
  },
  {
   "cell_type": "markdown",
   "metadata": {},
   "source": [
    "Functions (standard ones, not lambda) are a **named**, **repeatable** block of code. Once you've written a function, you can call it as often as you like just by using its name.\n",
    "\n",
    "The function `add_two()` takes one value as an argument and returns that value plus 2. `add_two(4)` would return 6, for example."
   ]
  },
  {
   "cell_type": "code",
   "execution_count": 7,
   "metadata": {},
   "outputs": [],
   "source": [
    "def add_two(x):\n",
    "    return x + 2"
   ]
  },
  {
   "cell_type": "markdown",
   "metadata": {},
   "source": [
    "Lambda functions are essentially the same as standard functions, but with two key distinctions.\n",
    "\n",
    "1. lambda functions don't have names.Once you've set them loose, they're gone and cannot be re-used without writing them again.\n",
    "\n",
    "\n",
    "2. lambda functions have a more spartan syntax: though they work in the same way, taking arguments and returning values, they are generally shorter and simpler. \n",
    "\n",
    "The lambda function below does exactly the same thing as `add_two()` above. Because it's a lambda function, it uses the keyword `lambda` instead of `def`, and does not have a name. It doesn't need brackets around the arguments, and Python assumes that you want to return the resultant value - there's no need to write `return`."
   ]
  },
  {
   "cell_type": "code",
   "execution_count": 8,
   "metadata": {},
   "outputs": [
    {
     "data": {
      "text/plain": [
       "<function __main__.<lambda>(x)>"
      ]
     },
     "execution_count": 8,
     "metadata": {},
     "output_type": "execute_result"
    }
   ],
   "source": [
    "lambda x: x + 2"
   ]
  },
  {
   "cell_type": "markdown",
   "metadata": {},
   "source": [
    "The `x` in the lambda above is just an argument - it can have any value you want. `x` is often the conventional choice, but it is both acceptable and much better to have meaningful variable names. If you know your lambda function is only going to be passed prices, then `lambda price: price + 2` is immediately understandable."
   ]
  },
  {
   "cell_type": "markdown",
   "metadata": {},
   "source": [
    "### Apply and Lambda functions"
   ]
  },
  {
   "cell_type": "markdown",
   "metadata": {},
   "source": [
    "As already mentioned, one of the major uses of lambda functions is within `.apply()` calls. \n",
    "\n",
    "In the example below, the `.apply()` function takes every value in the \"B\" column of the data frame, and passes it as an argument to the lambda function within.\n",
    "\n",
    "The result is a column of numbers, each one 2 higher than the initial \"B\" column."
   ]
  },
  {
   "cell_type": "code",
   "execution_count": 9,
   "metadata": {},
   "outputs": [
    {
     "data": {
      "text/plain": [
       "0     25\n",
       "1      2\n",
       "2     10\n",
       "3     -5\n",
       "4    101\n",
       "Name: B, dtype: int64"
      ]
     },
     "execution_count": 9,
     "metadata": {},
     "output_type": "execute_result"
    }
   ],
   "source": [
    "data[\"B\"].apply(lambda x: x + 2)"
   ]
  },
  {
   "cell_type": "markdown",
   "metadata": {},
   "source": [
    "For every row in the column, `.apply()` calls the lambda function, passing in the value - first 23, then 0, and so on. Each value takes the place of `x` in turn.\n",
    "\n",
    "Lambdas are not limited to manipulating numbers: they can do everything that standard functions do. In the example below, the values in column \"C\" are each concatenated with the string \"brownish\"."
   ]
  },
  {
   "cell_type": "code",
   "execution_count": 10,
   "metadata": {},
   "outputs": [
    {
     "data": {
      "text/plain": [
       "0     brownish-Green\n",
       "1     brownish-Green\n",
       "2       brownish-Red\n",
       "3    brownish-Yellow\n",
       "4      brownish-Blue\n",
       "Name: C, dtype: object"
      ]
     },
     "execution_count": 10,
     "metadata": {},
     "output_type": "execute_result"
    }
   ],
   "source": [
    "data[\"C\"].apply(lambda x: \"brownish-\" + x)"
   ]
  },
  {
   "cell_type": "markdown",
   "metadata": {},
   "source": [
    "One of the most common uses of lambdas and `.apply()` is to create a new column based on transforming an existing one. This is shown in the example below."
   ]
  },
  {
   "cell_type": "code",
   "execution_count": 11,
   "metadata": {},
   "outputs": [],
   "source": [
    "data[\"F\"] = data[\"C\"].apply(lambda x: \"brownish-\" + x)"
   ]
  },
  {
   "cell_type": "code",
   "execution_count": 12,
   "metadata": {},
   "outputs": [
    {
     "data": {
      "text/html": [
       "<div>\n",
       "<style scoped>\n",
       "    .dataframe tbody tr th:only-of-type {\n",
       "        vertical-align: middle;\n",
       "    }\n",
       "\n",
       "    .dataframe tbody tr th {\n",
       "        vertical-align: top;\n",
       "    }\n",
       "\n",
       "    .dataframe thead th {\n",
       "        text-align: right;\n",
       "    }\n",
       "</style>\n",
       "<table border=\"1\" class=\"dataframe\">\n",
       "  <thead>\n",
       "    <tr style=\"text-align: right;\">\n",
       "      <th></th>\n",
       "      <th>A</th>\n",
       "      <th>B</th>\n",
       "      <th>C</th>\n",
       "      <th>D</th>\n",
       "      <th>E</th>\n",
       "      <th>F</th>\n",
       "    </tr>\n",
       "  </thead>\n",
       "  <tbody>\n",
       "    <tr>\n",
       "      <th>0</th>\n",
       "      <td>Owl</td>\n",
       "      <td>23</td>\n",
       "      <td>Green</td>\n",
       "      <td>True</td>\n",
       "      <td>[1, 2, 3, 4]</td>\n",
       "      <td>brownish-Green</td>\n",
       "    </tr>\n",
       "    <tr>\n",
       "      <th>1</th>\n",
       "      <td>Heron</td>\n",
       "      <td>0</td>\n",
       "      <td>Green</td>\n",
       "      <td>True</td>\n",
       "      <td>[0, 0]</td>\n",
       "      <td>brownish-Green</td>\n",
       "    </tr>\n",
       "    <tr>\n",
       "      <th>2</th>\n",
       "      <td>Kestrel</td>\n",
       "      <td>8</td>\n",
       "      <td>Red</td>\n",
       "      <td>False</td>\n",
       "      <td>[1, 1, 1]</td>\n",
       "      <td>brownish-Red</td>\n",
       "    </tr>\n",
       "    <tr>\n",
       "      <th>3</th>\n",
       "      <td>Stork</td>\n",
       "      <td>-7</td>\n",
       "      <td>Yellow</td>\n",
       "      <td>False</td>\n",
       "      <td>[4, 5, 6, 1, 1]</td>\n",
       "      <td>brownish-Yellow</td>\n",
       "    </tr>\n",
       "    <tr>\n",
       "      <th>4</th>\n",
       "      <td>Puffin</td>\n",
       "      <td>99</td>\n",
       "      <td>Blue</td>\n",
       "      <td>False</td>\n",
       "      <td>[8, 0, 8, 0]</td>\n",
       "      <td>brownish-Blue</td>\n",
       "    </tr>\n",
       "  </tbody>\n",
       "</table>\n",
       "</div>"
      ],
      "text/plain": [
       "         A   B       C      D                E                F\n",
       "0      Owl  23   Green   True     [1, 2, 3, 4]   brownish-Green\n",
       "1    Heron   0   Green   True           [0, 0]   brownish-Green\n",
       "2  Kestrel   8     Red  False        [1, 1, 1]     brownish-Red\n",
       "3    Stork  -7  Yellow  False  [4, 5, 6, 1, 1]  brownish-Yellow\n",
       "4   Puffin  99    Blue  False     [8, 0, 8, 0]    brownish-Blue"
      ]
     },
     "execution_count": 12,
     "metadata": {},
     "output_type": "execute_result"
    }
   ],
   "source": [
    "data.head()"
   ]
  },
  {
   "cell_type": "markdown",
   "metadata": {},
   "source": [
    "### Apply for whole rows"
   ]
  },
  {
   "cell_type": "markdown",
   "metadata": {},
   "source": [
    "Occasionally, you may wish to apply a function to every value of a cell in a column, but also want to use a complimentary value from a different column at the same time. This is not possible using lambdas on a single column as we have done above.\n",
    "\n",
    "Luckily, we can use `.apply()` on whole dataframes, not just individual columns. When we do this, and pass the argument `axis=1` (to ensure that `.apply()` works down the dataframe, not across), then `.apply()` passes each row to the function, one by one. You can then refer to a particular row's values by column name.\n",
    "\n",
    "The example below shows the creation of a new column - \"G\" - based on the concatenation of \"C\" and \"A\""
   ]
  },
  {
   "cell_type": "code",
   "execution_count": 13,
   "metadata": {},
   "outputs": [],
   "source": [
    "data[\"G\"] = data.apply(lambda row: row[\"C\"] + \" \" + row[\"A\"], axis=1)"
   ]
  },
  {
   "cell_type": "code",
   "execution_count": 14,
   "metadata": {},
   "outputs": [
    {
     "data": {
      "text/html": [
       "<div>\n",
       "<style scoped>\n",
       "    .dataframe tbody tr th:only-of-type {\n",
       "        vertical-align: middle;\n",
       "    }\n",
       "\n",
       "    .dataframe tbody tr th {\n",
       "        vertical-align: top;\n",
       "    }\n",
       "\n",
       "    .dataframe thead th {\n",
       "        text-align: right;\n",
       "    }\n",
       "</style>\n",
       "<table border=\"1\" class=\"dataframe\">\n",
       "  <thead>\n",
       "    <tr style=\"text-align: right;\">\n",
       "      <th></th>\n",
       "      <th>A</th>\n",
       "      <th>B</th>\n",
       "      <th>C</th>\n",
       "      <th>D</th>\n",
       "      <th>E</th>\n",
       "      <th>F</th>\n",
       "      <th>G</th>\n",
       "    </tr>\n",
       "  </thead>\n",
       "  <tbody>\n",
       "    <tr>\n",
       "      <th>0</th>\n",
       "      <td>Owl</td>\n",
       "      <td>23</td>\n",
       "      <td>Green</td>\n",
       "      <td>True</td>\n",
       "      <td>[1, 2, 3, 4]</td>\n",
       "      <td>brownish-Green</td>\n",
       "      <td>Green Owl</td>\n",
       "    </tr>\n",
       "    <tr>\n",
       "      <th>1</th>\n",
       "      <td>Heron</td>\n",
       "      <td>0</td>\n",
       "      <td>Green</td>\n",
       "      <td>True</td>\n",
       "      <td>[0, 0]</td>\n",
       "      <td>brownish-Green</td>\n",
       "      <td>Green Heron</td>\n",
       "    </tr>\n",
       "    <tr>\n",
       "      <th>2</th>\n",
       "      <td>Kestrel</td>\n",
       "      <td>8</td>\n",
       "      <td>Red</td>\n",
       "      <td>False</td>\n",
       "      <td>[1, 1, 1]</td>\n",
       "      <td>brownish-Red</td>\n",
       "      <td>Red Kestrel</td>\n",
       "    </tr>\n",
       "    <tr>\n",
       "      <th>3</th>\n",
       "      <td>Stork</td>\n",
       "      <td>-7</td>\n",
       "      <td>Yellow</td>\n",
       "      <td>False</td>\n",
       "      <td>[4, 5, 6, 1, 1]</td>\n",
       "      <td>brownish-Yellow</td>\n",
       "      <td>Yellow Stork</td>\n",
       "    </tr>\n",
       "    <tr>\n",
       "      <th>4</th>\n",
       "      <td>Puffin</td>\n",
       "      <td>99</td>\n",
       "      <td>Blue</td>\n",
       "      <td>False</td>\n",
       "      <td>[8, 0, 8, 0]</td>\n",
       "      <td>brownish-Blue</td>\n",
       "      <td>Blue Puffin</td>\n",
       "    </tr>\n",
       "  </tbody>\n",
       "</table>\n",
       "</div>"
      ],
      "text/plain": [
       "         A   B       C      D                E                F             G\n",
       "0      Owl  23   Green   True     [1, 2, 3, 4]   brownish-Green     Green Owl\n",
       "1    Heron   0   Green   True           [0, 0]   brownish-Green   Green Heron\n",
       "2  Kestrel   8     Red  False        [1, 1, 1]     brownish-Red   Red Kestrel\n",
       "3    Stork  -7  Yellow  False  [4, 5, 6, 1, 1]  brownish-Yellow  Yellow Stork\n",
       "4   Puffin  99    Blue  False     [8, 0, 8, 0]    brownish-Blue   Blue Puffin"
      ]
     },
     "execution_count": 14,
     "metadata": {},
     "output_type": "execute_result"
    }
   ],
   "source": [
    "data.head()"
   ]
  },
  {
   "cell_type": "markdown",
   "metadata": {},
   "source": [
    "This technique will be quite slow on large dataframes, but it allows you to quickly perform complex transformations involving multiple columns on an entire dataframe."
   ]
  },
  {
   "cell_type": "markdown",
   "metadata": {},
   "source": [
    "### Possibilities\n",
    "\n",
    "It is, again, important to emphasise that lambdas can do anything standard functions can, which essentially means anything that you want. `.apply()` on its own is really useful for situations where a pre-existing function needs to be applied to every value; combined with lambda functions, anything you can express as a function can be used in the same way. \n",
    "\n",
    "To demonstrate this, the below example is not only more meaningless than the previous meaningless examples, but also unnecessarily complex to demonstrate that arbitrary complexity is possible."
   ]
  },
  {
   "cell_type": "code",
   "execution_count": 15,
   "metadata": {},
   "outputs": [],
   "source": [
    "# Creates a new column in the dataframe based on converting the value in column \"B\" to a str, \n",
    "# and multiplying it by the length of the value in \"E\", modulo 4.\n",
    "\n",
    "data[\"H\"] = data.apply(lambda row: str(row[\"B\"]) * (len(row[\"E\"]) % 4), axis=1)"
   ]
  },
  {
   "cell_type": "code",
   "execution_count": 16,
   "metadata": {},
   "outputs": [
    {
     "data": {
      "text/html": [
       "<div>\n",
       "<style scoped>\n",
       "    .dataframe tbody tr th:only-of-type {\n",
       "        vertical-align: middle;\n",
       "    }\n",
       "\n",
       "    .dataframe tbody tr th {\n",
       "        vertical-align: top;\n",
       "    }\n",
       "\n",
       "    .dataframe thead th {\n",
       "        text-align: right;\n",
       "    }\n",
       "</style>\n",
       "<table border=\"1\" class=\"dataframe\">\n",
       "  <thead>\n",
       "    <tr style=\"text-align: right;\">\n",
       "      <th></th>\n",
       "      <th>A</th>\n",
       "      <th>B</th>\n",
       "      <th>C</th>\n",
       "      <th>D</th>\n",
       "      <th>E</th>\n",
       "      <th>F</th>\n",
       "      <th>G</th>\n",
       "      <th>H</th>\n",
       "    </tr>\n",
       "  </thead>\n",
       "  <tbody>\n",
       "    <tr>\n",
       "      <th>0</th>\n",
       "      <td>Owl</td>\n",
       "      <td>23</td>\n",
       "      <td>Green</td>\n",
       "      <td>True</td>\n",
       "      <td>[1, 2, 3, 4]</td>\n",
       "      <td>brownish-Green</td>\n",
       "      <td>Green Owl</td>\n",
       "      <td></td>\n",
       "    </tr>\n",
       "    <tr>\n",
       "      <th>1</th>\n",
       "      <td>Heron</td>\n",
       "      <td>0</td>\n",
       "      <td>Green</td>\n",
       "      <td>True</td>\n",
       "      <td>[0, 0]</td>\n",
       "      <td>brownish-Green</td>\n",
       "      <td>Green Heron</td>\n",
       "      <td>00</td>\n",
       "    </tr>\n",
       "    <tr>\n",
       "      <th>2</th>\n",
       "      <td>Kestrel</td>\n",
       "      <td>8</td>\n",
       "      <td>Red</td>\n",
       "      <td>False</td>\n",
       "      <td>[1, 1, 1]</td>\n",
       "      <td>brownish-Red</td>\n",
       "      <td>Red Kestrel</td>\n",
       "      <td>888</td>\n",
       "    </tr>\n",
       "    <tr>\n",
       "      <th>3</th>\n",
       "      <td>Stork</td>\n",
       "      <td>-7</td>\n",
       "      <td>Yellow</td>\n",
       "      <td>False</td>\n",
       "      <td>[4, 5, 6, 1, 1]</td>\n",
       "      <td>brownish-Yellow</td>\n",
       "      <td>Yellow Stork</td>\n",
       "      <td>-7</td>\n",
       "    </tr>\n",
       "    <tr>\n",
       "      <th>4</th>\n",
       "      <td>Puffin</td>\n",
       "      <td>99</td>\n",
       "      <td>Blue</td>\n",
       "      <td>False</td>\n",
       "      <td>[8, 0, 8, 0]</td>\n",
       "      <td>brownish-Blue</td>\n",
       "      <td>Blue Puffin</td>\n",
       "      <td></td>\n",
       "    </tr>\n",
       "  </tbody>\n",
       "</table>\n",
       "</div>"
      ],
      "text/plain": [
       "         A   B       C      D                E                F             G  \\\n",
       "0      Owl  23   Green   True     [1, 2, 3, 4]   brownish-Green     Green Owl   \n",
       "1    Heron   0   Green   True           [0, 0]   brownish-Green   Green Heron   \n",
       "2  Kestrel   8     Red  False        [1, 1, 1]     brownish-Red   Red Kestrel   \n",
       "3    Stork  -7  Yellow  False  [4, 5, 6, 1, 1]  brownish-Yellow  Yellow Stork   \n",
       "4   Puffin  99    Blue  False     [8, 0, 8, 0]    brownish-Blue   Blue Puffin   \n",
       "\n",
       "     H  \n",
       "0       \n",
       "1   00  \n",
       "2  888  \n",
       "3   -7  \n",
       "4       "
      ]
     },
     "execution_count": 16,
     "metadata": {},
     "output_type": "execute_result"
    }
   ],
   "source": [
    "data.head()"
   ]
  }
 ],
 "metadata": {
  "kernelspec": {
   "display_name": "Python 3",
   "language": "python",
   "name": "python3"
  },
  "language_info": {
   "codemirror_mode": {
    "name": "ipython",
    "version": 3
   },
   "file_extension": ".py",
   "mimetype": "text/x-python",
   "name": "python",
   "nbconvert_exporter": "python",
   "pygments_lexer": "ipython3",
   "version": "3.7.2"
  }
 },
 "nbformat": 4,
 "nbformat_minor": 2
}
