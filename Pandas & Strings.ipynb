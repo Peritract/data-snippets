{
 "cells": [
  {
   "cell_type": "markdown",
   "metadata": {},
   "source": [
    "# Pandas & Strings\n",
    "\n",
    "This notebook explores how to work with strings in Pandas, focusing on common tasks such as how to select information from inside strings and filter rows in a dataframe based on the text in a particular column. \n",
    "\n",
    "The notebook assumes a baseline knowledge of Python and Pandas, as well as some familiarity with regular expressions. If you're mostly happy navigating dataframes filled with numbers, but you want to be equally comfortable working with more complex (and interesting data), then this is the notebook for you.\n",
    "\n",
    "For no especial reason, the data used to illustrate the code in this notebook is the full text of Mary Wollstonecraft Shelley's [*Frankenstein*](https://www.gutenberg.org/ebooks/42324). "
   ]
  },
  {
   "cell_type": "markdown",
   "metadata": {},
   "source": [
    "## Imports\n",
    "\n",
    "Pandas is required because the notebooks is about Pandas; all other libraries are simply used for initial data preparation."
   ]
  },
  {
   "cell_type": "code",
   "execution_count": 1,
   "metadata": {},
   "outputs": [],
   "source": [
    "import pandas as pd  # Data manipulation\n",
    "import re  # Regular expressions\n",
    "from nltk.tokenize import sent_tokenize  # Split the raw text into sentences"
   ]
  },
  {
   "cell_type": "code",
   "execution_count": 2,
   "metadata": {},
   "outputs": [],
   "source": [
    "# Set the pandas display width to show twice as much text as normal\n",
    "\n",
    "pd.set_option(\"display.max_colwidth\", 100)"
   ]
  },
  {
   "cell_type": "markdown",
   "metadata": {},
   "source": [
    "## Data sourcing\n",
    "\n",
    "The data is stored in a text file, and so requires a small amount of processing to fit into a Pandas' object. The end result is a Pandas `Series` containing the full text, one sentence per row."
   ]
  },
  {
   "cell_type": "code",
   "execution_count": 3,
   "metadata": {},
   "outputs": [],
   "source": [
    "# Load the data from a file\n",
    "\n",
    "with open(\"frankenstein.txt\", \"r\") as file:\n",
    "    raw_text = file.read()\n",
    "    \n",
    "# Necessary cleaning\n",
    "\n",
    "raw_text = re.sub(\"\\n\", \" \", raw_text)  # Change newlines to spaces\n",
    "raw_text = re.sub(\"_\", \"\", raw_text)  # Remove underscores (used for italics in the text)\n",
    "raw_text = re.sub(\"\\s+\", \" \", raw_text)  # Collapse multiple spaces\n",
    "        \n",
    "# Convert the raw_text into a series of sentences\n",
    "# Split the text into sentences with sent_tokenize, pass into pd.Series\n",
    "\n",
    "frankenstein = pd.Series(sent_tokenize(raw_text))"
   ]
  },
  {
   "cell_type": "code",
   "execution_count": 4,
   "metadata": {},
   "outputs": [
    {
     "data": {
      "text/plain": [
       "(3328,)"
      ]
     },
     "execution_count": 4,
     "metadata": {},
     "output_type": "execute_result"
    }
   ],
   "source": [
    "# How many sentences?\n",
    "\n",
    "frankenstein.shape"
   ]
  },
  {
   "cell_type": "code",
   "execution_count": 5,
   "metadata": {},
   "outputs": [
    {
     "data": {
      "text/plain": [
       "0                                                               FRANKENSTEIN; OR, THE MODERN PROMETHEUS.\n",
       "1                                                                                              LETTER I.\n",
       "2                                                                              To Mrs. Saville, England.\n",
       "3                                                                      St. Petersburgh, Dec. 11th, 17--.\n",
       "4    You will rejoice to hear that no disaster has accompanied the commencement of an enterprise whic...\n",
       "dtype: object"
      ]
     },
     "execution_count": 5,
     "metadata": {},
     "output_type": "execute_result"
    }
   ],
   "source": [
    "# Inspect the series\n",
    "\n",
    "frankenstein.head()"
   ]
  },
  {
   "cell_type": "markdown",
   "metadata": {},
   "source": [
    "## Datatypes\n",
    "\n",
    "A Pandas `Series`, or a column in a larger dataframe (also a `Series`) which contains strings will have a type of `object`; this is not an error, but a general type that Pandas uses to store strings and various other values. Most non-numeric columns in a dataframe will appear to be `object`s."
   ]
  },
  {
   "cell_type": "code",
   "execution_count": 6,
   "metadata": {},
   "outputs": [
    {
     "data": {
      "text/plain": [
       "dtype('O')"
      ]
     },
     "execution_count": 6,
     "metadata": {},
     "output_type": "execute_result"
    }
   ],
   "source": [
    "# What type is the series?\n",
    "\n",
    "frankenstein.dtype\n",
    "\n",
    "# 'O' is for 'Object'"
   ]
  },
  {
   "cell_type": "markdown",
   "metadata": {},
   "source": [
    "## Converting series to strings\n",
    "\n",
    "By default, Pandas will import strings correctly as `object` columns/series. However, this doesn't always mean that every single value in the series will really be have a `str` type; remember that `object` is the catch-all category. NaN values, for example, can appear in object columns, but will actually have a type of `float`. This can cause problems when you attempt to treat an `object` column as containing only strings.\n",
    "\n",
    "To convert a column (or set of columns) to strings explicitly, use `.astype(str)`. This will force each value in the column(s) to be a string. Note that the data type of the column will still be `object`.\n",
    "\n",
    "In this case, our data is already in string format, but it's a trick worth knowing."
   ]
  },
  {
   "cell_type": "code",
   "execution_count": 7,
   "metadata": {},
   "outputs": [],
   "source": [
    "# Ensuring that all values are strings (not required in this case)\n",
    "\n",
    "frankenstein = frankenstein.astype(str)"
   ]
  },
  {
   "cell_type": "markdown",
   "metadata": {},
   "source": [
    "## Accessing string methods\n",
    "\n",
    "When working with strings in Pandas, you'll often want to apply the same built-in methods as you would with an individual string. However, you can't directly call string methods on Pandas `Series` objects, because only actual strings have those methods, and a series - even a series containing just strings - has its own unrelated methods instead. Think of a series as just a box you can put anything in - you have to deal with the box first, and can't skip straight to the contents.\n",
    "\n",
    "Pandas does provide a way to access those methods though; you can access string methods for values in a series by using `.str.` and then the method you want to apply to the strings. Using `.str.` like this applies the given method to each string in turn, just as calling `.apply()` does for other methods."
   ]
  },
  {
   "cell_type": "code",
   "execution_count": 8,
   "metadata": {},
   "outputs": [
    {
     "data": {
      "text/plain": [
       "0                                                               frankenstein; or, the modern prometheus.\n",
       "1                                                                                              letter i.\n",
       "2                                                                              to mrs. saville, england.\n",
       "3                                                                      st. petersburgh, dec. 11th, 17--.\n",
       "4    you will rejoice to hear that no disaster has accompanied the commencement of an enterprise whic...\n",
       "dtype: object"
      ]
     },
     "execution_count": 8,
     "metadata": {},
     "output_type": "execute_result"
    }
   ],
   "source": [
    "frankenstein.str.lower().head()"
   ]
  },
  {
   "cell_type": "markdown",
   "metadata": {},
   "source": [
    "The code cell above returns a copy of the `frankenstein` series, but with each value converted to lowercase. In this way, you can apply any string method to a column containing strings.\n",
    "\n",
    "`.str.` is not limited to only the methods that you could use with a normal string in Python; there are some extra functions that you have access to using Pandas."
   ]
  },
  {
   "cell_type": "markdown",
   "metadata": {},
   "source": [
    "## Contains\n",
    "\n",
    "With Python, the easiest way to check if a string contains a particular set of characters is with the `in` keyword."
   ]
  },
  {
   "cell_type": "code",
   "execution_count": 9,
   "metadata": {},
   "outputs": [
    {
     "data": {
      "text/plain": [
       "True"
      ]
     },
     "execution_count": 9,
     "metadata": {},
     "output_type": "execute_result"
    }
   ],
   "source": [
    "\"mode\" in \"the modern prometheus\" "
   ]
  },
  {
   "cell_type": "markdown",
   "metadata": {},
   "source": [
    "`in` cannot be used with a series in the same way that it can be used with strings. However, Pandas provides another method - `.str.contains()` - which can be used to check if each string in a column contains another."
   ]
  },
  {
   "cell_type": "code",
   "execution_count": 10,
   "metadata": {},
   "outputs": [
    {
     "data": {
      "text/plain": [
       "0       False\n",
       "1       False\n",
       "2       False\n",
       "3       False\n",
       "4       False\n",
       "        ...  \n",
       "3323    False\n",
       "3324    False\n",
       "3325    False\n",
       "3326    False\n",
       "3327    False\n",
       "Length: 3328, dtype: bool"
      ]
     },
     "execution_count": 10,
     "metadata": {},
     "output_type": "execute_result"
    }
   ],
   "source": [
    "frankenstein.str.contains(\"Victor\")"
   ]
  },
  {
   "cell_type": "markdown",
   "metadata": {},
   "source": [
    "The above code returns a series of boolean values, based on whether each separate value in the series contains the substring \"Victor\". `.str.contains()` can also be used with regular expressions to pick out a more general pattern. The code below returns a boolean series checking if each sentence contains any number of digits."
   ]
  },
  {
   "cell_type": "code",
   "execution_count": 11,
   "metadata": {},
   "outputs": [
    {
     "data": {
      "text/plain": [
       "0       False\n",
       "1       False\n",
       "2       False\n",
       "3        True\n",
       "4       False\n",
       "        ...  \n",
       "3323    False\n",
       "3324    False\n",
       "3325    False\n",
       "3326    False\n",
       "3327    False\n",
       "Length: 3328, dtype: bool"
      ]
     },
     "execution_count": 11,
     "metadata": {},
     "output_type": "execute_result"
    }
   ],
   "source": [
    "frankenstein.str.contains(\"\\d+\", regex=True)"
   ]
  },
  {
   "cell_type": "markdown",
   "metadata": {},
   "source": [
    "## Filtering with strings\n",
    "\n",
    "You can use string columns to filter and subset a dataframe just as you would use any other column. Many of the `.str.` methods return a boolean series that can be used to directly filter rows using the familiar syntax.\n",
    "\n",
    "`.str.contains()` produces such a boolean series, and so you can filter for \"rows that contain a particular pattern/word\". The code below returns all the lines that contain any digit, building on the previous example."
   ]
  },
  {
   "cell_type": "code",
   "execution_count": 12,
   "metadata": {},
   "outputs": [
    {
     "data": {
      "text/plain": [
       "3                                                                         St. Petersburgh, Dec. 11th, 17--.\n",
       "54                                                                             Archangel, 28th March, 17--.\n",
       "108                                                                         MY DEAR SISTER, July 7th, 17--.\n",
       "128                                                                                       August 5th, 17--.\n",
       "130     Last Monday (July 31st), we were nearly surrounded by ice, which closed in the ship on all sides...\n",
       "187                                                                                      August 13th, 17--.\n",
       "223                                                                                              August 19.\n",
       "224                                                                                                   17--.\n",
       "646                                                       \"[1] [Footnote 1: Coleridge's \"Ancient Mariner.\"]\n",
       "778                                                                             \"Geneva, March 18th, 17--.\"\n",
       "846              \"Last Thursday (May 7th), I, my niece, and your two brothers, went to walk in Plainpalais.\n",
       "873                                                                               \"Geneva, May 12th, 17--.\"\n",
       "1437                                                                     [2] I gazed with a kind of wonder.\n",
       "1442                                                                                [Footnote 2: The moon.]\n",
       "2263    The scenery of external nature, which others regard only with admiration, he loved with ardour:-...\n",
       "2302    We quitted London on the 27th of March, and remained a few days at Windsor, rambling in its beau...\n",
       "2733                                                                              \"Geneva, May 18th, 17--.\"\n",
       "3050                                                                                     August 26th, 17--.\n",
       "3104                                                                                * * * * * September 2d.\n",
       "3122                                                                                         September 5th.\n",
       "3159                                                                                         September 7th.\n",
       "3163                                                                                        September 12th.\n",
       "3167    September 9th, the ice began to move, and roarings like thunder were heard at a distance, as the...\n",
       "3169    The ice cracked behind us, and was driven with force towards the north; a breeze sprung from the...\n",
       "dtype: object"
      ]
     },
     "execution_count": 12,
     "metadata": {},
     "output_type": "execute_result"
    }
   ],
   "source": [
    "frankenstein[frankenstein.str.contains(\"\\d+\", regex=True)]"
   ]
  },
  {
   "cell_type": "markdown",
   "metadata": {},
   "source": [
    "`.str.contains()` is not the only useful method for filtering. You can also, for example, use `.str.startswith()` and `.str.endswith()` to filter out just those rows that begin or end in a particular way.\n",
    "\n",
    "The example below selects all the rows that end with a question mark. Note that this method **does not accept regular expressions**, and only matches exactly - a sentence ending with `?\"` would not be returned by this filter."
   ]
  },
  {
   "cell_type": "code",
   "execution_count": 13,
   "metadata": {},
   "outputs": [
    {
     "data": {
      "text/plain": [
       "7                                                                  Do you understand this feeling?\n",
       "14                                         What may not be expected in a country of eternal light?\n",
       "35                      And now, dear Margaret, do I not deserve to accomplish some great purpose?\n",
       "45                       I do not intend to sail until the month of June; and when shall I return?\n",
       "46                                                Ah, dear sister, how can I answer this question?\n",
       "                                                   ...                                            \n",
       "3288                                                               Was there no injustice in this?\n",
       "3289                  Am I to be thought the only criminal, when all human kind sinned against me?\n",
       "3290                 Why do you not hate Felix, who drove his friend from his door with contumely?\n",
       "3291            Why do you not execrate the rustic who sought to destroy the saviour of his child?\n",
       "3312    Polluted by crimes, and torn by the bitterest remorse, where can I find rest but in death?\n",
       "Length: 185, dtype: object"
      ]
     },
     "execution_count": 13,
     "metadata": {},
     "output_type": "execute_result"
    }
   ],
   "source": [
    "frankenstein[frankenstein.str.endswith(\"?\")]"
   ]
  },
  {
   "cell_type": "markdown",
   "metadata": {},
   "source": [
    "## Extract\n",
    "\n",
    "Another useful method is `.str.extract()`; rather than checking **if** a string contains a particular sequence, it extracts the text that matches a particular pattern. This is overkill if you're just checking an exact sequence: use `str.contains()` in that case. However, if you are looking to get information of a specific type from a string (telephone numbers, product codes, colours of clothing), then combining `.str.extract()` with a regular expression is the neatest way to get the information that you want.\n",
    "\n",
    "The method works by looking for **capturing groups**; it's not just looking for a pattern, but for the bit of the pattern you told it mattered. In regular expressions, you define a capturing group with round brackets. A pattern without these round brackets will fail, because Pandas won't know which bit of the pattern you actually want to get back.\n",
    "\n",
    "The line below shows the usage of `.str.extract()` with a capturing group. The pattern says to look for a number - of any length - and wraps that number in round brackets as a capturing group so that `.str.extract()` knows to focus on it. Any row containing a number returns that number; all others return `NaN`."
   ]
  },
  {
   "cell_type": "code",
   "execution_count": 14,
   "metadata": {},
   "outputs": [
    {
     "data": {
      "text/html": [
       "<div>\n",
       "<style scoped>\n",
       "    .dataframe tbody tr th:only-of-type {\n",
       "        vertical-align: middle;\n",
       "    }\n",
       "\n",
       "    .dataframe tbody tr th {\n",
       "        vertical-align: top;\n",
       "    }\n",
       "\n",
       "    .dataframe thead th {\n",
       "        text-align: right;\n",
       "    }\n",
       "</style>\n",
       "<table border=\"1\" class=\"dataframe\">\n",
       "  <thead>\n",
       "    <tr style=\"text-align: right;\">\n",
       "      <th></th>\n",
       "      <th>0</th>\n",
       "    </tr>\n",
       "  </thead>\n",
       "  <tbody>\n",
       "    <tr>\n",
       "      <th>0</th>\n",
       "      <td>NaN</td>\n",
       "    </tr>\n",
       "    <tr>\n",
       "      <th>1</th>\n",
       "      <td>NaN</td>\n",
       "    </tr>\n",
       "    <tr>\n",
       "      <th>2</th>\n",
       "      <td>NaN</td>\n",
       "    </tr>\n",
       "    <tr>\n",
       "      <th>3</th>\n",
       "      <td>11</td>\n",
       "    </tr>\n",
       "    <tr>\n",
       "      <th>4</th>\n",
       "      <td>NaN</td>\n",
       "    </tr>\n",
       "    <tr>\n",
       "      <th>...</th>\n",
       "      <td>...</td>\n",
       "    </tr>\n",
       "    <tr>\n",
       "      <th>3323</th>\n",
       "      <td>NaN</td>\n",
       "    </tr>\n",
       "    <tr>\n",
       "      <th>3324</th>\n",
       "      <td>NaN</td>\n",
       "    </tr>\n",
       "    <tr>\n",
       "      <th>3325</th>\n",
       "      <td>NaN</td>\n",
       "    </tr>\n",
       "    <tr>\n",
       "      <th>3326</th>\n",
       "      <td>NaN</td>\n",
       "    </tr>\n",
       "    <tr>\n",
       "      <th>3327</th>\n",
       "      <td>NaN</td>\n",
       "    </tr>\n",
       "  </tbody>\n",
       "</table>\n",
       "<p>3328 rows × 1 columns</p>\n",
       "</div>"
      ],
      "text/plain": [
       "        0\n",
       "0     NaN\n",
       "1     NaN\n",
       "2     NaN\n",
       "3      11\n",
       "4     NaN\n",
       "...   ...\n",
       "3323  NaN\n",
       "3324  NaN\n",
       "3325  NaN\n",
       "3326  NaN\n",
       "3327  NaN\n",
       "\n",
       "[3328 rows x 1 columns]"
      ]
     },
     "execution_count": 14,
     "metadata": {},
     "output_type": "execute_result"
    }
   ],
   "source": [
    "frankenstein.str.extract(\"(\\d+)\")"
   ]
  },
  {
   "cell_type": "markdown",
   "metadata": {},
   "source": [
    "By default, this method returns a dataframe; you can collapse this with the parameter `expand=False`.\n",
    "\n",
    "You can also search for more than one capturing group at at time. The code below searches for two groups at once; note that this returns one column for each group, and that `expand=False` will no longer force the result into a series."
   ]
  },
  {
   "cell_type": "code",
   "execution_count": 15,
   "metadata": {},
   "outputs": [
    {
     "data": {
      "text/html": [
       "<div>\n",
       "<style scoped>\n",
       "    .dataframe tbody tr th:only-of-type {\n",
       "        vertical-align: middle;\n",
       "    }\n",
       "\n",
       "    .dataframe tbody tr th {\n",
       "        vertical-align: top;\n",
       "    }\n",
       "\n",
       "    .dataframe thead th {\n",
       "        text-align: right;\n",
       "    }\n",
       "</style>\n",
       "<table border=\"1\" class=\"dataframe\">\n",
       "  <thead>\n",
       "    <tr style=\"text-align: right;\">\n",
       "      <th></th>\n",
       "      <th>0</th>\n",
       "      <th>1</th>\n",
       "    </tr>\n",
       "  </thead>\n",
       "  <tbody>\n",
       "    <tr>\n",
       "      <th>2</th>\n",
       "      <td>To</td>\n",
       "      <td>Mrs</td>\n",
       "    </tr>\n",
       "    <tr>\n",
       "      <th>21</th>\n",
       "      <td>North</td>\n",
       "      <td>Pacific</td>\n",
       "    </tr>\n",
       "    <tr>\n",
       "      <th>32</th>\n",
       "      <td>North</td>\n",
       "      <td>Sea</td>\n",
       "    </tr>\n",
       "    <tr>\n",
       "      <th>53</th>\n",
       "      <td>To</td>\n",
       "      <td>Mrs</td>\n",
       "    </tr>\n",
       "    <tr>\n",
       "      <th>94</th>\n",
       "      <td>Ancient</td>\n",
       "      <td>Mariner</td>\n",
       "    </tr>\n",
       "    <tr>\n",
       "      <th>107</th>\n",
       "      <td>To</td>\n",
       "      <td>Mrs</td>\n",
       "    </tr>\n",
       "    <tr>\n",
       "      <th>127</th>\n",
       "      <td>To</td>\n",
       "      <td>Mrs</td>\n",
       "    </tr>\n",
       "    <tr>\n",
       "      <th>130</th>\n",
       "      <td>Last</td>\n",
       "      <td>Monday</td>\n",
       "    </tr>\n",
       "    <tr>\n",
       "      <th>153</th>\n",
       "      <td>Good</td>\n",
       "      <td>God</td>\n",
       "    </tr>\n",
       "    <tr>\n",
       "      <th>225</th>\n",
       "      <td>Captain</td>\n",
       "      <td>Walton</td>\n",
       "    </tr>\n",
       "  </tbody>\n",
       "</table>\n",
       "</div>"
      ],
      "text/plain": [
       "           0        1\n",
       "2         To      Mrs\n",
       "21     North  Pacific\n",
       "32     North      Sea\n",
       "53        To      Mrs\n",
       "94   Ancient  Mariner\n",
       "107       To      Mrs\n",
       "127       To      Mrs\n",
       "130     Last   Monday\n",
       "153     Good      God\n",
       "225  Captain   Walton"
      ]
     },
     "execution_count": 15,
     "metadata": {},
     "output_type": "execute_result"
    }
   ],
   "source": [
    "# Add .dropna() on the end just to only show interesting rows\n",
    "\n",
    "frankenstein.str.extract(\"([A-Z][a-z]+) ([A-Z][a-z]+)\").dropna().head(10)"
   ]
  },
  {
   "cell_type": "markdown",
   "metadata": {},
   "source": [
    "The pattern used in the example above is both crude and complex. It probably requires some explanation.\n",
    "\n",
    "Essentially, there are two parts to it, each one in its own capturing group, and separated from the other by a space. The two parts are identical.\n",
    "\n",
    "`[A-Z][a-z]+` searches for a capital letter followed by any number of lowercase letters. Essentially, this searches for any word beginning with a capital letter.\n",
    "\n",
    "As a whole, the pattern searches for a word beginning with a capital letter, then a space, then another word beginning with a capital letter. Only the words themselves are in capturing groups, so they are returned as the results of the `.str.extract()` method, discarding the space.\n",
    "\n",
    "This is a relatively blunt method for searching for names (of people or places) within the text. You can see that it has mostly failed, particularly where a name started the second word of a sentence (\"To Mrs. Saville\"), matching the pattern correctly but not providing the desired information. However, it has picked up on some names: \"Captain Walton\", \"North Sea\".\n",
    "\n",
    "It's not a great regex, and could do with a lot of refining, but hopefully the basic idea is clear."
   ]
  },
  {
   "cell_type": "markdown",
   "metadata": {},
   "source": [
    "## Replace\n",
    "\n",
    "You can always use the `.replace()` method in Pandas to work with strings, but it's worth being aware of the `.str.replace()` method as well. The primary difference is that - by default - `.replace()` searches for and replaces whole values; if you want regular expressions, you need to pass in `regex=True`. `.str.replace()` accepts regex patterns by default, and gives you lots of potential arguments to fine-tune the replacements. It's a little more fiddly, but if you want to do something more complex, it's worth considering `.str.replace()`.\n",
    "\n",
    "The code below searches the series for any sentence which mentions \"the monster\", \"the fiend\", or \"the devil\"; all of these are names that Frankenstein bestows on his innocent creation, and if you've read the novel, you find that as unjust as I do. To correct this historic injustice, we're going to replace all incidents of the above insults with \"Adam\". Although the creature is never named in the original novel, Shelley makes the suggestion in the creature's impassioned reproach to his father's rejection:\n",
    "\n",
    "\n",
    "> \"Remember, that I am thy creature; I ought to be thy Adam; but I am rather the fallen angel, whom thou drivest from joy for no misdeed.\""
   ]
  },
  {
   "cell_type": "code",
   "execution_count": 16,
   "metadata": {},
   "outputs": [
    {
     "name": "stderr",
     "output_type": "stream",
     "text": [
      "/usr/local/lib/python3.8/site-packages/pandas/core/strings.py:2001: UserWarning: This pattern has match groups. To actually get the groups, use str.extract.\n",
      "  return func(self, *args, **kwargs)\n"
     ]
    }
   ],
   "source": [
    "# Filter for just lines that contain \"the monster\", \"the devil\", or \"the fiend\"\n",
    "# using capturing groups and the pipe - | for \"or\"\n",
    "\n",
    "monster_series = frankenstein[frankenstein.str.contains(\"the (monster|fiend|devil)\")]"
   ]
  },
  {
   "cell_type": "markdown",
   "metadata": {},
   "source": [
    "You may get a pink warning from the above cell, because you're using capturing groups to organise the information, but not actually requesting the group's return; this message can be safely ignored."
   ]
  },
  {
   "cell_type": "code",
   "execution_count": 17,
   "metadata": {},
   "outputs": [
    {
     "data": {
      "text/plain": [
       "682                   I imagined that the monster seized me; I struggled furiously, and fell down in a fit.\n",
       "692     The form of the monster on whom I had bestowed existence was for ever before my eyes, and I rave...\n",
       "946     I thought of pursuing the devil; but it would have been in vain, for another flash discovered hi...\n",
       "1134    Ever since I was condemned, my confessor has besieged me; he threatened and menaced, until I alm...\n",
       "1139    She paused, weeping, and then continued--\"I thought with horror, my sweet lady, that you should ...\n",
       "dtype: object"
      ]
     },
     "execution_count": 17,
     "metadata": {},
     "output_type": "execute_result"
    }
   ],
   "source": [
    "monster_series.head()"
   ]
  },
  {
   "cell_type": "code",
   "execution_count": 18,
   "metadata": {},
   "outputs": [
    {
     "data": {
      "text/plain": [
       "682                          I imagined that Adam seized me; I struggled furiously, and fell down in a fit.\n",
       "692     The form of Adam on whom I had bestowed existence was for ever before my eyes, and I raved inces...\n",
       "946     I thought of pursuing Adam; but it would have been in vain, for another flash discovered him to ...\n",
       "1134    Ever since I was condemned, my confessor has besieged me; he threatened and menaced, until I alm...\n",
       "1139    She paused, weeping, and then continued--\"I thought with horror, my sweet lady, that you should ...\n",
       "dtype: object"
      ]
     },
     "execution_count": 18,
     "metadata": {},
     "output_type": "execute_result"
    }
   ],
   "source": [
    "# Replace the insults with the name he deserves\n",
    "\n",
    "monster_series.str.replace(\"the (monster|fiend|devil)\", \"Adam\").head()"
   ]
  },
  {
   "cell_type": "markdown",
   "metadata": {},
   "source": [
    "## Conclusions\n",
    "\n",
    "The methods discussed above should allow you to meet most common use cases for working with strings: checking if they contain information, grabbing the information they do contain, and fixing incorrect information. There are lots of subtleties and complexities that I recommend exploring if you're interested, but 99% of the time, these are the methods you need to wrangle (not analyse) text data."
   ]
  }
 ],
 "metadata": {
  "kernelspec": {
   "display_name": "Python 3",
   "language": "python",
   "name": "python3"
  },
  "language_info": {
   "codemirror_mode": {
    "name": "ipython",
    "version": 3
   },
   "file_extension": ".py",
   "mimetype": "text/x-python",
   "name": "python",
   "nbconvert_exporter": "python",
   "pygments_lexer": "ipython3",
   "version": "3.8.5"
  }
 },
 "nbformat": 4,
 "nbformat_minor": 4
}
