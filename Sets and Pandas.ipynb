{
 "cells": [
  {
   "cell_type": "markdown",
   "metadata": {},
   "source": [
    "# Sets and Pandas\n",
    "\n",
    "This notebook explores what a `set` is in Python, and how to work with them in Pandas. There are an awful lot of subtleties available here, so this notebook is absolutely not a full and in-depth guide to everything set-related, but a brief introduction to some of the most likely use-cases.\n",
    "\n",
    "## Imports"
   ]
  },
  {
   "cell_type": "code",
   "execution_count": 1,
   "metadata": {},
   "outputs": [],
   "source": [
    "import pandas as pd"
   ]
  },
  {
   "cell_type": "markdown",
   "metadata": {},
   "source": [
    "## Sets\n",
    "\n",
    "A **set** is a data structure, similar to a list or a tuple: sets contain information in a particular form.\n",
    "\n",
    "A set has the following properties:\n",
    "\n",
    "1. Unordered - a set contains information, but doesn't structure it in a particular order\n",
    "2. Unindexed - because a set is unordered, you can't ask for the third item, etc.\n",
    "3. Mutable - a set can change, with information being added or removed\n",
    "4. Only contains unique items - a set cannot contain duplicate values; if you try to include them, it will ignore you"
   ]
  },
  {
   "cell_type": "code",
   "execution_count": 2,
   "metadata": {},
   "outputs": [],
   "source": [
    "# Create a set using curly brackets\n",
    "\n",
    "my_set = {1, 2, 3}"
   ]
  },
  {
   "cell_type": "code",
   "execution_count": 3,
   "metadata": {},
   "outputs": [
    {
     "name": "stdout",
     "output_type": "stream",
     "text": [
      "{1, 2, 3}\n"
     ]
    }
   ],
   "source": [
    "# Display a set\n",
    "\n",
    "print(my_set)"
   ]
  },
  {
   "cell_type": "code",
   "execution_count": 4,
   "metadata": {},
   "outputs": [],
   "source": [
    "# Attempt to create a set with non-unique values\n",
    "\n",
    "my_set = {1, 2, 3, 4, 4, 5, 5, 6}"
   ]
  },
  {
   "cell_type": "code",
   "execution_count": 5,
   "metadata": {},
   "outputs": [
    {
     "name": "stdout",
     "output_type": "stream",
     "text": [
      "{1, 2, 3, 4, 5, 6}\n"
     ]
    }
   ],
   "source": [
    "# Display the set\n",
    "\n",
    "print(my_set)"
   ]
  },
  {
   "cell_type": "markdown",
   "metadata": {},
   "source": [
    "## Basic operations\n",
    "\n",
    "Sets support a bunch of basic operations that let you treat them in a very similar way to lists."
   ]
  },
  {
   "cell_type": "code",
   "execution_count": 6,
   "metadata": {},
   "outputs": [
    {
     "data": {
      "text/plain": [
       "{1, 2, 3, 4, 5, 6, 7}"
      ]
     },
     "execution_count": 6,
     "metadata": {},
     "output_type": "execute_result"
    }
   ],
   "source": [
    "# Add a value\n",
    "\n",
    "my_set.add(7)\n",
    "\n",
    "# Show it\n",
    "\n",
    "my_set"
   ]
  },
  {
   "cell_type": "code",
   "execution_count": 7,
   "metadata": {},
   "outputs": [
    {
     "data": {
      "text/plain": [
       "{1, 2, 3, 4, 5, 6}"
      ]
     },
     "execution_count": 7,
     "metadata": {},
     "output_type": "execute_result"
    }
   ],
   "source": [
    "# Remove a value\n",
    "\n",
    "my_set.discard(7)\n",
    "\n",
    "# .remove will also work, but throws an error if the set doesn't contain the thing to remove\n",
    "\n",
    "# Show it\n",
    "\n",
    "my_set"
   ]
  },
  {
   "cell_type": "markdown",
   "metadata": {},
   "source": [
    "Although sets aren't ordered or indexed, you can loop through them."
   ]
  },
  {
   "cell_type": "code",
   "execution_count": 8,
   "metadata": {},
   "outputs": [
    {
     "name": "stdout",
     "output_type": "stream",
     "text": [
      "11\n",
      "12\n",
      "13\n",
      "14\n",
      "15\n",
      "16\n"
     ]
    }
   ],
   "source": [
    "# Loop through a set\n",
    "\n",
    "for val in my_set:\n",
    "    print(val + 10)"
   ]
  },
  {
   "cell_type": "markdown",
   "metadata": {},
   "source": [
    "Converting a list into a set is a quick way to remove duplicates. You can always call `list()` to change the set back into a probably-more-familiar data structure."
   ]
  },
  {
   "cell_type": "code",
   "execution_count": 9,
   "metadata": {},
   "outputs": [
    {
     "name": "stdout",
     "output_type": "stream",
     "text": [
      "[45, 0, 23, 0, 192, 192, 17]\n",
      "{0, 192, 45, 17, 23}\n"
     ]
    }
   ],
   "source": [
    "vals = [45, 0, 23, 0, 192, 192, 17]\n",
    "\n",
    "print(vals)\n",
    "\n",
    "vals = set(vals)\n",
    "\n",
    "print(vals)"
   ]
  },
  {
   "cell_type": "markdown",
   "metadata": {},
   "source": [
    "You can check if a set contains a particular value using `in`."
   ]
  },
  {
   "cell_type": "code",
   "execution_count": 10,
   "metadata": {},
   "outputs": [
    {
     "name": "stdout",
     "output_type": "stream",
     "text": [
      "Found!\n"
     ]
    }
   ],
   "source": [
    "if 17 in vals:\n",
    "    print(\"Found!\")"
   ]
  },
  {
   "cell_type": "markdown",
   "metadata": {},
   "source": [
    "## More exciting sets\n",
    "\n",
    "There's a whole [complex mathematical theory](https://en.wikipedia.org/wiki/Set_theory) behind sets and the way they work, which you don't have to understand and I definitely don't. The upshot of all this fancy stuff is that sets can do some really useful things in really efficient ways.\n",
    "\n",
    "To demonstrate this, we'll use three sets - `a`, `b`, and `c` - which have some items in common and some items not."
   ]
  },
  {
   "cell_type": "code",
   "execution_count": 11,
   "metadata": {},
   "outputs": [],
   "source": [
    "a = {0, 1, 2, 3}\n",
    "\n",
    "b = {5, 4, 3, 2}\n",
    "\n",
    "c = {0, 1}"
   ]
  },
  {
   "cell_type": "code",
   "execution_count": 12,
   "metadata": {},
   "outputs": [
    {
     "data": {
      "text/plain": [
       "{0, 1, 2, 3, 4, 5}"
      ]
     },
     "execution_count": 12,
     "metadata": {},
     "output_type": "execute_result"
    }
   ],
   "source": [
    "# Join the sets together, keeping all unique elements\n",
    "\n",
    "a.union(b)"
   ]
  },
  {
   "cell_type": "code",
   "execution_count": 13,
   "metadata": {},
   "outputs": [
    {
     "data": {
      "text/plain": [
       "{2, 3}"
      ]
     },
     "execution_count": 13,
     "metadata": {},
     "output_type": "execute_result"
    }
   ],
   "source": [
    "# Join the sets together, only keeping elements in common\n",
    "\n",
    "a.intersection(b)"
   ]
  },
  {
   "cell_type": "code",
   "execution_count": 14,
   "metadata": {},
   "outputs": [
    {
     "data": {
      "text/plain": [
       "{0, 1, 4, 5}"
      ]
     },
     "execution_count": 14,
     "metadata": {},
     "output_type": "execute_result"
    }
   ],
   "source": [
    "# Join the sets together, only keeping elements that aren't shared\n",
    "\n",
    "a.symmetric_difference(b)"
   ]
  },
  {
   "cell_type": "code",
   "execution_count": 15,
   "metadata": {},
   "outputs": [
    {
     "data": {
      "text/plain": [
       "{0, 1}"
      ]
     },
     "execution_count": 15,
     "metadata": {},
     "output_type": "execute_result"
    }
   ],
   "source": [
    "# Get just the elements of a that aren't in b (or vice versa)\n",
    "\n",
    "a.difference(b)"
   ]
  },
  {
   "cell_type": "code",
   "execution_count": 16,
   "metadata": {},
   "outputs": [
    {
     "data": {
      "text/plain": [
       "False"
      ]
     },
     "execution_count": 16,
     "metadata": {},
     "output_type": "execute_result"
    }
   ],
   "source": [
    "# Does a contain all the items in b?\n",
    "\n",
    "a.issuperset(b)"
   ]
  },
  {
   "cell_type": "code",
   "execution_count": 17,
   "metadata": {},
   "outputs": [
    {
     "data": {
      "text/plain": [
       "True"
      ]
     },
     "execution_count": 17,
     "metadata": {},
     "output_type": "execute_result"
    }
   ],
   "source": [
    "# Is everything in c also contained in a?\n",
    "\n",
    "c.issubset(a)"
   ]
  },
  {
   "cell_type": "markdown",
   "metadata": {},
   "source": [
    "## Sets in Pandas\n",
    "\n",
    "A column in a Pandas dataframe can contain sets; these get recorded as the `object` type.\n",
    "\n",
    "Sets are relatively rare in dataframes - some models (particularly association rules ones, for some reason) might result in sets, but it's generally not a common data structure to work with in Pandas. Pandas can handle them, but doesn't like doing it, and whenever you have a column in Pandas containing a container of some kind, you'll need to work around some fiddly bits. Working with sets inside Pandas is possible, but rarely fun or easily intuitive.\n",
    "\n",
    "The most likely things you'll want to do with a column containing sets is filter based on it, returning only rows in which the set in a particular column contains a specified value. There are essentially (as far as I am aware) two ways to get this functionality:\n",
    "\n",
    "1. Pretend that the sets are strings\n",
    "2. Use lambda functions to call set methods\n",
    "\n",
    "To demonstrate these two approaches, we'll use an example dataframe with two columns - one containing just a number, and one containing a set."
   ]
  },
  {
   "cell_type": "code",
   "execution_count": 18,
   "metadata": {},
   "outputs": [],
   "source": [
    "# Make the dataframe\n",
    "\n",
    "df = pd.DataFrame(columns=[\"id\", \"set\"],\n",
    "                  data=[[1, {\"wyvern\", \"dragon\", \"harpy\"}],\n",
    "                        [2, {\"fairy\", \"harpy\", \"nixie\"}],\n",
    "                        [3, {\"kelpie\", \"fairy\", \"redcap\"}],\n",
    "                        [4, {\"basilisk\", \"wyvern\", \"dragon\"}],\n",
    "                        [5, {\"basilisk\", \"kelpie\", \"harpie\"}]])"
   ]
  },
  {
   "cell_type": "code",
   "execution_count": 19,
   "metadata": {},
   "outputs": [
    {
     "data": {
      "text/html": [
       "<div>\n",
       "<style scoped>\n",
       "    .dataframe tbody tr th:only-of-type {\n",
       "        vertical-align: middle;\n",
       "    }\n",
       "\n",
       "    .dataframe tbody tr th {\n",
       "        vertical-align: top;\n",
       "    }\n",
       "\n",
       "    .dataframe thead th {\n",
       "        text-align: right;\n",
       "    }\n",
       "</style>\n",
       "<table border=\"1\" class=\"dataframe\">\n",
       "  <thead>\n",
       "    <tr style=\"text-align: right;\">\n",
       "      <th></th>\n",
       "      <th>id</th>\n",
       "      <th>set</th>\n",
       "    </tr>\n",
       "  </thead>\n",
       "  <tbody>\n",
       "    <tr>\n",
       "      <th>0</th>\n",
       "      <td>1</td>\n",
       "      <td>{wyvern, harpy, dragon}</td>\n",
       "    </tr>\n",
       "    <tr>\n",
       "      <th>1</th>\n",
       "      <td>2</td>\n",
       "      <td>{fairy, harpy, nixie}</td>\n",
       "    </tr>\n",
       "    <tr>\n",
       "      <th>2</th>\n",
       "      <td>3</td>\n",
       "      <td>{fairy, redcap, kelpie}</td>\n",
       "    </tr>\n",
       "    <tr>\n",
       "      <th>3</th>\n",
       "      <td>4</td>\n",
       "      <td>{wyvern, basilisk, dragon}</td>\n",
       "    </tr>\n",
       "    <tr>\n",
       "      <th>4</th>\n",
       "      <td>5</td>\n",
       "      <td>{harpie, basilisk, kelpie}</td>\n",
       "    </tr>\n",
       "  </tbody>\n",
       "</table>\n",
       "</div>"
      ],
      "text/plain": [
       "   id                         set\n",
       "0   1     {wyvern, harpy, dragon}\n",
       "1   2       {fairy, harpy, nixie}\n",
       "2   3     {fairy, redcap, kelpie}\n",
       "3   4  {wyvern, basilisk, dragon}\n",
       "4   5  {harpie, basilisk, kelpie}"
      ]
     },
     "execution_count": 19,
     "metadata": {},
     "output_type": "execute_result"
    }
   ],
   "source": [
    "# View it\n",
    "\n",
    "df.head()"
   ]
  },
  {
   "cell_type": "code",
   "execution_count": 20,
   "metadata": {},
   "outputs": [
    {
     "data": {
      "text/plain": [
       "id      int64\n",
       "set    object\n",
       "dtype: object"
      ]
     },
     "execution_count": 20,
     "metadata": {},
     "output_type": "execute_result"
    }
   ],
   "source": [
    "# Check the types\n",
    "\n",
    "df.dtypes"
   ]
  },
  {
   "cell_type": "markdown",
   "metadata": {},
   "source": [
    "### Treating sets as strings\n",
    "\n",
    "Pandas doesn't like working with sets, but it has a whole bunch of methods to work with strings. If you convert your set column into strings, you can take advantage of those methods at the minor expense of being able to use set methods (which are harder to use in Pandas).\n",
    "\n",
    "Converting a set to a string gives you a string that looks like a set, with all the values visible. When you're dealing with simple elements (integers, strings, etc.), that's all you need.\n",
    "\n",
    "The set `{0, 1, 2, 3}` becomes the string `\"{0, 1, 2, 3}\"`."
   ]
  },
  {
   "cell_type": "code",
   "execution_count": 21,
   "metadata": {},
   "outputs": [
    {
     "data": {
      "text/plain": [
       "'{0, 1, 2, 3}'"
      ]
     },
     "execution_count": 21,
     "metadata": {},
     "output_type": "execute_result"
    }
   ],
   "source": [
    "# View a as a string\n",
    "\n",
    "str(a)"
   ]
  },
  {
   "cell_type": "markdown",
   "metadata": {},
   "source": [
    "To convert a column of sets in Pandas, you can use `.astype(str)`. You can then chain that together with `.str.` methods such as `.str.contains` to check if a value is inside any of the sets.\n",
    "\n",
    "Remember, you have to do the `astype(str)` first - `.str.contains` doesn't understand how to work with sets, so just returns `NaN` for everything."
   ]
  },
  {
   "cell_type": "code",
   "execution_count": 22,
   "metadata": {},
   "outputs": [
    {
     "data": {
      "text/plain": [
       "0     True\n",
       "1     True\n",
       "2    False\n",
       "3    False\n",
       "4    False\n",
       "Name: set, dtype: bool"
      ]
     },
     "execution_count": 22,
     "metadata": {},
     "output_type": "execute_result"
    }
   ],
   "source": [
    "# Check if a set-column contains a particular value\n",
    "\n",
    "df[\"set\"].astype(str).str.contains(\"harpy\")"
   ]
  },
  {
   "cell_type": "markdown",
   "metadata": {},
   "source": [
    "You can then take that boolean filter and use it to filter your dataframe as you normally would."
   ]
  },
  {
   "cell_type": "code",
   "execution_count": 23,
   "metadata": {},
   "outputs": [
    {
     "data": {
      "text/html": [
       "<div>\n",
       "<style scoped>\n",
       "    .dataframe tbody tr th:only-of-type {\n",
       "        vertical-align: middle;\n",
       "    }\n",
       "\n",
       "    .dataframe tbody tr th {\n",
       "        vertical-align: top;\n",
       "    }\n",
       "\n",
       "    .dataframe thead th {\n",
       "        text-align: right;\n",
       "    }\n",
       "</style>\n",
       "<table border=\"1\" class=\"dataframe\">\n",
       "  <thead>\n",
       "    <tr style=\"text-align: right;\">\n",
       "      <th></th>\n",
       "      <th>id</th>\n",
       "      <th>set</th>\n",
       "    </tr>\n",
       "  </thead>\n",
       "  <tbody>\n",
       "    <tr>\n",
       "      <th>0</th>\n",
       "      <td>1</td>\n",
       "      <td>{wyvern, harpy, dragon}</td>\n",
       "    </tr>\n",
       "    <tr>\n",
       "      <th>1</th>\n",
       "      <td>2</td>\n",
       "      <td>{fairy, harpy, nixie}</td>\n",
       "    </tr>\n",
       "  </tbody>\n",
       "</table>\n",
       "</div>"
      ],
      "text/plain": [
       "   id                      set\n",
       "0   1  {wyvern, harpy, dragon}\n",
       "1   2    {fairy, harpy, nixie}"
      ]
     },
     "execution_count": 23,
     "metadata": {},
     "output_type": "execute_result"
    }
   ],
   "source": [
    "df[df[\"set\"].astype(str).str.contains(\"harpy\")]"
   ]
  },
  {
   "cell_type": "markdown",
   "metadata": {},
   "source": [
    "The `.astype(str)` trick isn't just good for checking if a set contains a value - you could use `.str.replace()`, for example, to change values in a set.\n",
    "\n",
    "It's really important to remember that this is a hack - you're not working with the data as it actually is, but converting it to appear differently and then treating the appearance as the data. It will work, but it's messy, and could cause problems when used in more complex ways. I'm not saying not to use it - hacks exist for a reason, and this is often the fastest route to the result that you want - but just be very careful with it, and make sure you are clear on what is happening at every stage."
   ]
  },
  {
   "cell_type": "markdown",
   "metadata": {},
   "source": [
    "### Lambda functions\n",
    "\n",
    "The more stable method, albeit conceptually harder, is to use lambda functions on your dataframe, and then use set methods inside those functions.\n",
    "\n",
    "For the purposes of this notebook, I'm going to only briefly touch on lambda functions themselves; [here's a more in-depth tutorial on them](https://github.com/Peritract/data-snippets/blob/master/Lambda%20functions%20and%20Apply.ipynb) if they're not too familiar to you.\n",
    "\n",
    "A lambda function, matched with a Pandas `.apply()`, lets you transform each value in a column in the same way. Lambda functions let you write custom behaviour, so that you can work with the sets directly, as sets, taking advantage of their built-in functions."
   ]
  },
  {
   "cell_type": "code",
   "execution_count": 24,
   "metadata": {},
   "outputs": [
    {
     "data": {
      "text/plain": [
       "0     8\n",
       "1     9\n",
       "2    10\n",
       "3    11\n",
       "4    12\n",
       "Name: id, dtype: int64"
      ]
     },
     "execution_count": 24,
     "metadata": {},
     "output_type": "execute_result"
    }
   ],
   "source": [
    "# Example lambda with an apply\n",
    "# For each value in the id column, give back that value + 7\n",
    "\n",
    "df[\"id\"].apply(lambda val: val + 7)"
   ]
  },
  {
   "cell_type": "markdown",
   "metadata": {},
   "source": [
    "`.apply()` lets you use the same function on every row of a column.\n",
    "\n",
    "`lambda val:` takes the value given it by `.apply()` (once for each row) and transforms it in some way.\n",
    "\n",
    "`val + 7` takes the value passed in and returns that value + 7. 1 becomes 8, 2 becomes 9, etc.\n",
    "\n",
    "The same basic process can be applied to sets, not just integer values."
   ]
  },
  {
   "cell_type": "code",
   "execution_count": 25,
   "metadata": {},
   "outputs": [
    {
     "data": {
      "text/plain": [
       "0     True\n",
       "1     True\n",
       "2    False\n",
       "3    False\n",
       "4    False\n",
       "Name: set, dtype: bool"
      ]
     },
     "execution_count": 25,
     "metadata": {},
     "output_type": "execute_result"
    }
   ],
   "source": [
    "# Lambda with an apply for a set\n",
    "# For each set in the set column, check if it contains a particular value\n",
    "\n",
    "df[\"set\"].apply(lambda x: \"harpy\" in x)"
   ]
  },
  {
   "cell_type": "markdown",
   "metadata": {},
   "source": [
    "`lambda x:` takes the set given it by `.apply()` (once for each row)\n",
    "\n",
    "`\"harpy\" in x\"` checks if the value \"harpy\" is in the set, and returns `True` or `False`.\n",
    "\n",
    "Just as with the .`astype(str)` methods, you can use the result of this `.apply()` and lambda to filter the dataframe."
   ]
  },
  {
   "cell_type": "code",
   "execution_count": 26,
   "metadata": {},
   "outputs": [
    {
     "data": {
      "text/html": [
       "<div>\n",
       "<style scoped>\n",
       "    .dataframe tbody tr th:only-of-type {\n",
       "        vertical-align: middle;\n",
       "    }\n",
       "\n",
       "    .dataframe tbody tr th {\n",
       "        vertical-align: top;\n",
       "    }\n",
       "\n",
       "    .dataframe thead th {\n",
       "        text-align: right;\n",
       "    }\n",
       "</style>\n",
       "<table border=\"1\" class=\"dataframe\">\n",
       "  <thead>\n",
       "    <tr style=\"text-align: right;\">\n",
       "      <th></th>\n",
       "      <th>id</th>\n",
       "      <th>set</th>\n",
       "    </tr>\n",
       "  </thead>\n",
       "  <tbody>\n",
       "    <tr>\n",
       "      <th>0</th>\n",
       "      <td>1</td>\n",
       "      <td>{wyvern, harpy, dragon}</td>\n",
       "    </tr>\n",
       "    <tr>\n",
       "      <th>1</th>\n",
       "      <td>2</td>\n",
       "      <td>{fairy, harpy, nixie}</td>\n",
       "    </tr>\n",
       "  </tbody>\n",
       "</table>\n",
       "</div>"
      ],
      "text/plain": [
       "   id                      set\n",
       "0   1  {wyvern, harpy, dragon}\n",
       "1   2    {fairy, harpy, nixie}"
      ]
     },
     "execution_count": 26,
     "metadata": {},
     "output_type": "execute_result"
    }
   ],
   "source": [
    "df[df[\"set\"].apply(lambda x: \"harpy\" in x)]"
   ]
  },
  {
   "cell_type": "markdown",
   "metadata": {},
   "source": [
    "Lambda lets you write arbitrary code, so using this method, you can do anything with the sets in the column that you could do with a set on its own. This method is more stable than the the string method, because you're treating sets as sets, rather than using the string representation. It might take a little longer to get your head round, but if you're planning on working with sets in Pandas, it's worth the effort."
   ]
  }
 ],
 "metadata": {
  "kernelspec": {
   "display_name": "Python 3",
   "language": "python",
   "name": "python3"
  },
  "language_info": {
   "codemirror_mode": {
    "name": "ipython",
    "version": 3
   },
   "file_extension": ".py",
   "mimetype": "text/x-python",
   "name": "python",
   "nbconvert_exporter": "python",
   "pygments_lexer": "ipython3",
   "version": "3.8.5"
  }
 },
 "nbformat": 4,
 "nbformat_minor": 4
}
