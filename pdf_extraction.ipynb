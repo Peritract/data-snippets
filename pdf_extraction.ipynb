{
 "cells": [
  {
   "cell_type": "markdown",
   "metadata": {},
   "source": [
    "# PDF Extraction\n",
    "\n",
    "This notebook explores how to extract information from PDF files. All pdfs used are patents, taken from [Google Patents](https://patents.google.com/).\n",
    "\n",
    "A lot of patents are actually stored as images inside `.pdf` files, rather than directly as text. This presents something of a problem. In order to work with that data, we need a particular utility: [ocrmypdf](https://ocrmypdf.readthedocs.io/en/latest/). \n",
    "\n",
    "## Imports"
   ]
  },
  {
   "cell_type": "code",
   "execution_count": 14,
   "metadata": {},
   "outputs": [],
   "source": [
    "from PyPDF2 import PdfFileReader # Get metadata\n",
    "from pdfminer.high_level import extract_text # Get full text\n",
    "import ocrmypdf # Convert image PDFs to text\n",
    "from glob import glob  # Get files of type in folder\n",
    "import pandas as pd  # Dataframes"
   ]
  },
  {
   "cell_type": "markdown",
   "metadata": {},
   "source": [
    "## Open a single PDF\n",
    "\n",
    "We can use `PdfFileReader()` to extract information directly from a `.pdf` file."
   ]
  },
  {
   "cell_type": "code",
   "execution_count": 2,
   "metadata": {},
   "outputs": [],
   "source": [
    "# File name (and path if necessary)\n",
    "\n",
    "filepath = \"patent.pdf\""
   ]
  },
  {
   "cell_type": "markdown",
   "metadata": {},
   "source": [
    "### Extracting metadata"
   ]
  },
  {
   "cell_type": "code",
   "execution_count": 3,
   "metadata": {
    "scrolled": true
   },
   "outputs": [
    {
     "name": "stdout",
     "output_type": "stream",
     "text": [
      "1\n"
     ]
    }
   ],
   "source": [
    "# Open the file  for reading in binary mode (required)\n",
    "\n",
    "with open(filepath, 'rb') as f:\n",
    "    \n",
    "        # Create the reader object\n",
    "        pdf = PdfFileReader(f)\n",
    "        \n",
    "        # Extract information from the object (lots of different options)\n",
    "        \n",
    "        pages = pdf.getNumPages()\n",
    "        \n",
    "        print(pages)"
   ]
  },
  {
   "cell_type": "markdown",
   "metadata": {},
   "source": [
    "### Extracting content\n",
    "\n",
    "This method only works if the information inside the `.pdf` is actually stored as text."
   ]
  },
  {
   "cell_type": "code",
   "execution_count": 4,
   "metadata": {},
   "outputs": [
    {
     "data": {
      "text/plain": [
       "'Patent title \\n\\n \\nI am a patent and I contain patent information. \\n \\nSecond paragraph - more like patent-graph \\n \\nPatent subtitle \\n\\n \\nPatently a patent. \\n \\n\\nPatent heading \\n\\n \\nDon’t get impatent, because I am a patent so that would be inappropriate for this situation. \\n\\n\\x0c'"
      ]
     },
     "execution_count": 4,
     "metadata": {},
     "output_type": "execute_result"
    }
   ],
   "source": [
    "extract_text(filepath)"
   ]
  },
  {
   "cell_type": "markdown",
   "metadata": {},
   "source": [
    "## Converting image PDFs to text PDFs"
   ]
  },
  {
   "cell_type": "code",
   "execution_count": 5,
   "metadata": {},
   "outputs": [],
   "source": [
    "# Get a file containing images rather than text\n",
    "\n",
    "filepath = './raw/GB2571201B.pdf'"
   ]
  },
  {
   "cell_type": "code",
   "execution_count": 6,
   "metadata": {},
   "outputs": [
    {
     "name": "stderr",
     "output_type": "stream",
     "text": [
      "Scanning contents: 100%|██████████| 18/18 [00:01<00:00, 14.81page/s]\n",
      "OCR: 100%|██████████| 18.0/18.0 [00:34<00:00,  1.90s/page]\n",
      "PDF/A conversion: 100%|██████████| 18/18 [00:03<00:00,  4.55page/s]\n",
      "JPEGs: 0image [00:00, ?image/s]\n",
      "JBIG2: 100%|██████████| 18/18 [00:00<00:00, 23.52item/s]\n"
     ]
    },
    {
     "data": {
      "text/plain": [
       "<ExitCode.ok: 0>"
      ]
     },
     "execution_count": 6,
     "metadata": {},
     "output_type": "execute_result"
    }
   ],
   "source": [
    "# Convert the file\n",
    "\n",
    "ocrmypdf.ocr(filepath, f'processed_GB2571201B.pdf')"
   ]
  },
  {
   "cell_type": "code",
   "execution_count": 7,
   "metadata": {},
   "outputs": [],
   "source": [
    "# Get the processed file\n",
    "\n",
    "filepath = 'processed_GB2571201B.pdf'\n",
    "\n",
    "# Extract the processed file's text\n",
    "\n",
    "text = extract_text(filepath)"
   ]
  },
  {
   "cell_type": "code",
   "execution_count": 8,
   "metadata": {},
   "outputs": [
    {
     "data": {
      "text/plain": [
       "'JK  Patent \\n\\n,.GB \\n\\n2011201 \\n\\n“yD \\n\\n(45) Date  of  B  Publication \\n\\n19.08.2020 \\n\\n(54)  Title of  the'"
      ]
     },
     "execution_count": 8,
     "metadata": {},
     "output_type": "execute_result"
    }
   ],
   "source": [
    "# Check it\n",
    "\n",
    "text[:100]"
   ]
  },
  {
   "cell_type": "markdown",
   "metadata": {},
   "source": [
    "## Processing multiple image PDFs"
   ]
  },
  {
   "cell_type": "code",
   "execution_count": 9,
   "metadata": {},
   "outputs": [
    {
     "name": "stdout",
     "output_type": "stream",
     "text": [
      "Processing 1 of 3\n"
     ]
    },
    {
     "name": "stderr",
     "output_type": "stream",
     "text": [
      "Scanning contents: 100%|██████████| 18/18 [00:01<00:00, 14.77page/s]\n",
      "OCR: 100%|██████████| 18.0/18.0 [00:27<00:00,  1.55s/page]\n",
      "PDF/A conversion: 100%|██████████| 18/18 [00:03<00:00,  5.64page/s]\n",
      "JPEGs: 0image [00:00, ?image/s]\u001b[A\n",
      "PDF/A conversion: 100%|██████████| 18/18 [00:03<00:00,  5.25page/s]\n",
      "JBIG2: 100%|██████████| 18/18 [00:00<00:00, 18.18item/s]\n"
     ]
    },
    {
     "name": "stdout",
     "output_type": "stream",
     "text": [
      "Processing 2 of 3\n"
     ]
    },
    {
     "name": "stderr",
     "output_type": "stream",
     "text": [
      "Scanning contents: 100%|██████████| 32/32 [00:01<00:00, 22.60page/s]\n",
      "OCR:   5%|▍         | 1.5/32.0 [00:07<02:01,  3.98s/page][tesseract] lots of diacritics - possibly poor OCR\n",
      "OCR: 100%|██████████| 32.0/32.0 [00:55<00:00,  1.75s/page]\n",
      "PDF/A conversion: 100%|██████████| 32/32 [00:05<00:00,  7.20page/s]\n",
      "JPEGs: 0image [00:00, ?image/s]\u001b[A\n",
      "PDF/A conversion: 100%|██████████| 32/32 [00:05<00:00,  5.88page/s]\n",
      "JBIG2: 100%|██████████| 32/32 [00:01<00:00, 25.85item/s]\n"
     ]
    },
    {
     "name": "stdout",
     "output_type": "stream",
     "text": [
      "Processing 3 of 3\n"
     ]
    },
    {
     "name": "stderr",
     "output_type": "stream",
     "text": [
      "Scanning contents: 100%|██████████| 25/25 [00:01<00:00, 19.85page/s]\n",
      "OCR:  86%|████████▌ | 21.5/25.0 [00:30<00:02,  1.23page/s][tesseract] lots of diacritics - possibly poor OCR\n",
      "OCR: 100%|██████████| 25.0/25.0 [00:31<00:00,  1.28s/page]\n",
      "PDF/A conversion: 100%|██████████| 25/25 [00:03<00:00,  6.96page/s]\n",
      "JPEGs: 0image [00:00, ?image/s]\u001b[A\n",
      "PDF/A conversion: 100%|██████████| 25/25 [00:04<00:00,  5.85page/s]\n",
      "JBIG2: 100%|██████████| 25/25 [00:00<00:00, 26.24item/s]\n"
     ]
    }
   ],
   "source": [
    "# Get a list of files in a folder\n",
    "\n",
    "files = glob('./raw/*.pdf')\n",
    "\n",
    "for num, filepath in enumerate(files):\n",
    "    \n",
    "    print(f'Processing {num + 1} of {len(files)}')\n",
    "    \n",
    "    # process each one\n",
    "    \n",
    "    ocrmypdf.ocr(filepath, f'./processed/{filepath.split(\"/\")[-1]}')"
   ]
  },
  {
   "cell_type": "markdown",
   "metadata": {},
   "source": [
    "## Reading multiple text PDFs"
   ]
  },
  {
   "cell_type": "code",
   "execution_count": 10,
   "metadata": {},
   "outputs": [
    {
     "name": "stdout",
     "output_type": "stream",
     "text": [
      "Processing GB2571201B (1/3)\n",
      "Processing CA2151947C (2/3)\n",
      "Processing CA2827558C (3/3)\n"
     ]
    }
   ],
   "source": [
    "# Get a list of files in a folder\n",
    "\n",
    "files = glob('./processed/*.pdf')\n",
    "\n",
    "# Holder for text data\n",
    "\n",
    "holder = []\n",
    "\n",
    "for num, filepath in enumerate(files):\n",
    "    \n",
    "    name = filepath.split(\"/\")[-1][:-4]\n",
    "    \n",
    "    print(f'Processing {name} ({num + 1}/{len(files)})')\n",
    "    \n",
    "    holder.append({'name': name,\n",
    "                   'text': extract_text(filepath)})"
   ]
  },
  {
   "cell_type": "code",
   "execution_count": 11,
   "metadata": {},
   "outputs": [],
   "source": [
    "# Create a dataframe from the holder\n",
    "\n",
    "patents = pd.DataFrame(holder)"
   ]
  },
  {
   "cell_type": "code",
   "execution_count": 12,
   "metadata": {},
   "outputs": [
    {
     "data": {
      "text/html": [
       "<div>\n",
       "<style scoped>\n",
       "    .dataframe tbody tr th:only-of-type {\n",
       "        vertical-align: middle;\n",
       "    }\n",
       "\n",
       "    .dataframe tbody tr th {\n",
       "        vertical-align: top;\n",
       "    }\n",
       "\n",
       "    .dataframe thead th {\n",
       "        text-align: right;\n",
       "    }\n",
       "</style>\n",
       "<table border=\"1\" class=\"dataframe\">\n",
       "  <thead>\n",
       "    <tr style=\"text-align: right;\">\n",
       "      <th></th>\n",
       "      <th>name</th>\n",
       "      <th>text</th>\n",
       "    </tr>\n",
       "  </thead>\n",
       "  <tbody>\n",
       "    <tr>\n",
       "      <th>0</th>\n",
       "      <td>GB2571201B</td>\n",
       "      <td>JK  Patent \\n\\n,.GB \\n\\n2011201 \\n\\n“yD \\n\\n(4...</td>\n",
       "    </tr>\n",
       "    <tr>\n",
       "      <th>1</th>\n",
       "      <td>CA2151947C</td>\n",
       "      <td>iwi \\n\\nOffice  de  la  Propriété \\nIntellectu...</td>\n",
       "    </tr>\n",
       "    <tr>\n",
       "      <th>2</th>\n",
       "      <td>CA2827558C</td>\n",
       "      <td>ivi \\n\\nInnovation,  Sciences  et \\nDéveloppem...</td>\n",
       "    </tr>\n",
       "  </tbody>\n",
       "</table>\n",
       "</div>"
      ],
      "text/plain": [
       "         name                                               text\n",
       "0  GB2571201B  JK  Patent \\n\\n,.GB \\n\\n2011201 \\n\\n“yD \\n\\n(4...\n",
       "1  CA2151947C  iwi \\n\\nOffice  de  la  Propriété \\nIntellectu...\n",
       "2  CA2827558C  ivi \\n\\nInnovation,  Sciences  et \\nDéveloppem..."
      ]
     },
     "execution_count": 12,
     "metadata": {},
     "output_type": "execute_result"
    }
   ],
   "source": [
    "# Check the dataframe\n",
    "\n",
    "patents.head()"
   ]
  },
  {
   "cell_type": "code",
   "execution_count": 13,
   "metadata": {},
   "outputs": [],
   "source": [
    "# Output the dataframe to a file\n",
    "\n",
    "patents.to_csv('patents.csv', sep=',', index=False)"
   ]
  }
 ],
 "metadata": {
  "kernelspec": {
   "display_name": "Python 3",
   "language": "python",
   "name": "python3"
  },
  "language_info": {
   "codemirror_mode": {
    "name": "ipython",
    "version": 3
   },
   "file_extension": ".py",
   "mimetype": "text/x-python",
   "name": "python",
   "nbconvert_exporter": "python",
   "pygments_lexer": "ipython3",
   "version": "3.9.1"
  }
 },
 "nbformat": 4,
 "nbformat_minor": 4
}
